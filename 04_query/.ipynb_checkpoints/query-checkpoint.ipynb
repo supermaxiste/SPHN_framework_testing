{
 "cells": [
  {
   "cell_type": "markdown",
   "id": "f1b536bc-6b2f-4249-a280-9bcfbad0b1b4",
   "metadata": {},
   "source": [
    "### Query"
   ]
  },
  {
   "cell_type": "markdown",
   "id": "1c98a60d-e5fc-4e62-88e5-83a607270315",
   "metadata": {},
   "source": [
    "In this document we will use SPARQL to query data and find the patient allergy information we added in the semantization process. Thanks to the validation procedure in from the previous step, we confirmed that the ontology has been extended successfully. For the next steps we will follow the [SPHN User Guide chapter on querying](https://sphn-semantic-framework.readthedocs.io/en/latest/user_guide/sparql.html)."
   ]
  },
  {
   "cell_type": "code",
   "execution_count": 12,
   "id": "fee00772-9fc5-45dc-b293-5966617f47ff",
   "metadata": {},
   "outputs": [
    {
     "name": "stdout",
     "output_type": "stream",
     "text": [
      "http://sib.swiss/fictivePatients/1d786bb6-1e28-1fa1-a58f-f6257f57ffa0\n",
      "http://sib.swiss/fictivePatients/6824c567-a5b2-8741-2dc4-b13ec092dd27\n",
      "http://sib.swiss/fictivePatients/e16c3d9e-adb3-64e7-f390-b4b554555e0c\n",
      "http://sib.swiss/fictivePatients/3c2778d9-4f1d-06e7-86f1-a94c442d40e2\n",
      "http://sib.swiss/fictivePatients/6402d161-8d2e-fb18-9ffa-209e93788e4b\n",
      "http://sib.swiss/fictivePatients/75bcfef0-6c1a-0912-4d07-4985cc8b5b25\n",
      "http://sib.swiss/fictivePatients/7bd01283-5e27-f4dc-52f4-744de2512418\n",
      "http://sib.swiss/fictivePatients/92f5faad-f4fb-33a1-b22c-4412f1ee223f\n",
      "http://sib.swiss/fictivePatients/9501bb98-c2c7-e538-9177-d39f04948c31\n",
      "http://sib.swiss/fictivePatients/97d1503a-9cc9-dcfe-ed3f-e1a5561070b3\n",
      "http://sib.swiss/fictivePatients/9f095bc0-1bbd-1d4f-1169-420e2a812aea\n",
      "http://sib.swiss/fictivePatients/c164342b-0b1e-28c4-6c34-f1a0f563e94b\n",
      "http://sib.swiss/fictivePatients/b9379856-f342-ad06-9bb7-d196bad0a78e\n",
      "http://sib.swiss/fictivePatients/3ca0117e-a77b-dbf4-f53f-be2ca8cef2b5\n",
      "http://sib.swiss/fictivePatients/80613e96-4ba1-eb00-5a45-0438622bd984\n",
      "http://sib.swiss/fictivePatients/5ab46f26-5979-ddc9-722f-e97f0d6aae1c\n",
      "http://sib.swiss/fictivePatients/753bf038-0bd7-ffb3-83dc-991a93562f36\n"
     ]
    }
   ],
   "source": [
    "# Importing packages\n",
    "\n",
    "from SPARQLWrapper import SPARQLWrapper, JSON\n",
    "from rdflib import Graph\n",
    "\n",
    "# Importing out extended ontology\n",
    "\n",
    "g = Graph()\n",
    "g.parse(\"../02_semantization/output/sphn_ontology_extended.ttl\")\n",
    "\n",
    "# We define our SPARQL query: how many patients have allergies\n",
    "\n",
    "allergy_query = \"\"\"\n",
    "PREFIX rdf:<http://www.w3.org/1999/02/22-rdf-syntax-ns#>\n",
    "PREFIX rdfs:<http://www.w3.org/2000/01/rdf-schema#>\n",
    "PREFIX sphn:<https://biomedit.ch/rdf/sphn-ontology/sphn#>\n",
    "PREFIX resource:<https://biomedit.ch/rdf/sphn-resource/>\n",
    "PREFIX xsd:<http://www.w3.org/2001/XMLSchema#>\n",
    "PREFIX substances: <http://sib.swiss/substances/>\n",
    "\n",
    "SELECT distinct ?patient\n",
    "WHERE {\n",
    "    ?patient a sphn:SubjectPseudoIdentifier .\n",
    "    ?allergy a sphn:Allergy .\n",
    "\n",
    "    ?allergy sphn:hasSubjectPseudoIdentifier ?patient .\n",
    "    ?allergy sphn:hasSubstance ?substance .\n",
    "}\"\"\"\n",
    "\n",
    "# We run the query on our ontology\n",
    "\n",
    "results = g.query(allergy_query)\n",
    "\n",
    "# We print the results\n",
    "for row in results:\n",
    "    print(row.patient)"
   ]
  },
  {
   "cell_type": "markdown",
   "id": "08f2d460-4ef7-4e64-99e2-456b5174e59f",
   "metadata": {},
   "source": [
    "We successfully found 17 patients showing allergies, which is the same amount obtained by the quality check tool. As a next query, we will try to find the allergy types together with which allergen they're associated to."
   ]
  },
  {
   "cell_type": "code",
   "execution_count": 15,
   "id": "90f05c8e-d5e0-4d91-b877-247f2fa2da49",
   "metadata": {},
   "outputs": [
    {
     "name": "stdout",
     "output_type": "stream",
     "text": [
      "http://sib.swiss/allergies/environment has http://sib.swiss/substances/Animaldander\n",
      "http://sib.swiss/allergies/environment has http://sib.swiss/substances/Beevenom\n",
      "http://sib.swiss/allergies/environment has http://sib.swiss/substances/Grasspollen\n",
      "http://sib.swiss/allergies/environment has http://sib.swiss/substances/Housedustmite\n",
      "http://sib.swiss/allergies/environment has http://sib.swiss/substances/Latex\n",
      "http://sib.swiss/allergies/environment has http://sib.swiss/substances/Mold\n",
      "http://sib.swiss/allergies/environment has http://sib.swiss/substances/Treepollen\n",
      "http://sib.swiss/allergies/food has http://sib.swiss/substances/Cowsmilk\n",
      "http://sib.swiss/allergies/food has http://sib.swiss/substances/Eggs\n",
      "http://sib.swiss/allergies/food has http://sib.swiss/substances/Fish\n",
      "http://sib.swiss/allergies/food has http://sib.swiss/substances/Peanut\n",
      "http://sib.swiss/allergies/food has http://sib.swiss/substances/Shellfish\n",
      "http://sib.swiss/allergies/food has http://sib.swiss/substances/Treenut\n",
      "http://sib.swiss/allergies/medication has http://sib.swiss/substances/Aspirin\n",
      "http://sib.swiss/allergies/medication has http://sib.swiss/substances/Ibuprofen\n",
      "http://sib.swiss/allergies/medication has http://sib.swiss/substances/Lisinopril\n",
      "http://sib.swiss/allergies/medication has http://sib.swiss/substances/PenicillinV\n",
      "http://sib.swiss/allergies/medication has http://sib.swiss/substances/SulfamethoxazoleTrimethoprim\n"
     ]
    }
   ],
   "source": [
    "# We define our SPARQL query: which substances are associated to allergy types\n",
    "\n",
    "substance_query = \"\"\"\n",
    "PREFIX rdf:<http://www.w3.org/1999/02/22-rdf-syntax-ns#>\n",
    "PREFIX rdfs:<http://www.w3.org/2000/01/rdf-schema#>\n",
    "PREFIX sphn:<https://biomedit.ch/rdf/sphn-ontology/sphn#>\n",
    "PREFIX resource:<https://biomedit.ch/rdf/sphn-resource/>\n",
    "PREFIX xsd:<http://www.w3.org/2001/XMLSchema#>\n",
    "PREFIX substances: <http://sib.swiss/substances/>\n",
    "\n",
    "SELECT distinct ?allergy ?substance\n",
    "WHERE {\n",
    "    ?allergy a sphn:Allergy .\n",
    "\n",
    "    ?allergy sphn:hasSubstance ?substance .\n",
    "}\"\"\"\n",
    "\n",
    "# We run the query on our ontology\n",
    "\n",
    "results = g.query(substance_query)\n",
    "\n",
    "# We print the results\n",
    "for row in results:\n",
    "    print(f\"{row.allergy} has {row.substance}\")"
   ]
  }
 ],
 "metadata": {
  "kernelspec": {
   "display_name": "Python 3 (ipykernel)",
   "language": "python",
   "name": "python3"
  },
  "language_info": {
   "codemirror_mode": {
    "name": "ipython",
    "version": 3
   },
   "file_extension": ".py",
   "mimetype": "text/x-python",
   "name": "python",
   "nbconvert_exporter": "python",
   "pygments_lexer": "ipython3",
   "version": "3.9.13"
  }
 },
 "nbformat": 4,
 "nbformat_minor": 5
}
